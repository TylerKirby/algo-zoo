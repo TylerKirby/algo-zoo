{
 "cells": [
  {
   "cell_type": "code",
   "execution_count": 1,
   "metadata": {},
   "outputs": [],
   "source": [
    "import numpy as np"
   ]
  },
  {
   "cell_type": "markdown",
   "metadata": {},
   "source": [
    "# Naive Auction Algorithm\n",
    "Given an $N$ by $X$ matrix $M$ where $M_{i,j} = v(i,j)$, the naive auction algorithm will find the optimal assignment of agents to objects."
   ]
  },
  {
   "cell_type": "code",
   "execution_count": 2,
   "metadata": {},
   "outputs": [],
   "source": [
    "def naive_auction(M):\n",
    "    # Initialize price vector p to zeros\n",
    "    p = np.zeros(M.shape[1])\n",
    "    # Initialize set of assignments S\n",
    "    S = set()\n",
    "    \n",
    "    # N = set of agents\n",
    "    N = range(M.shape[0])\n",
    "    \n",
    "    # Feasible: every agent is assigned to exactly one object\n",
    "    feasible = False\n",
    "    while not feasible:\n",
    "        # i = unassigned agent\n",
    "        assigned_agents = [a[0] for a in S]\n",
    "        unassigned_agents = [i for i in N if i not in assigned_agents]\n",
    "        i = unassigned_agents[0]\n",
    "        \n",
    "        # j = argmax v(i, k) - p_k\n",
    "        # the object that provides the most utility for agent i\n",
    "        j = np.argmax(M[i] - p)\n",
    "        \n",
    "        # k = agrmax v(i, k) - p_k where k =/= j\n",
    "        # the object that provides the second most utility for agent i\n",
    "        k = np.argsort(M[i] - p)[1]\n",
    "        \n",
    "        # bid = (v(i, j) - p_j) - (v(i, k) - p_k)\n",
    "        highest_value = M[i][j] - p[j]\n",
    "        second_highest = M[i][k] - p[k]\n",
    "        bid = highest_value - second_highest\n",
    "        \n",
    "        # Add assignment i, j to S\n",
    "        S.add((i, j))\n",
    "        \n",
    "        # If (i', j) in S, remove it\n",
    "        if j in [a[1] for a in S]:\n",
    "            assignment_to_remove = [a for a in S if a[1] == j][0]\n",
    "            if assignment_to_remove != (i, j):\n",
    "                S.remove(assignment_to_remove)\n",
    "        \n",
    "        # Increment p_j by bid\n",
    "        p[j] += bid\n",
    "        \n",
    "        # Check if S is feasible for termination\n",
    "        if len(S) == M.shape[0]:\n",
    "            feasible = True\n",
    "    \n",
    "    return S, p"
   ]
  },
  {
   "cell_type": "code",
   "execution_count": 3,
   "metadata": {},
   "outputs": [
    {
     "data": {
      "text/plain": [
       "array([[2, 4, 0],\n",
       "       [1, 5, 0],\n",
       "       [1, 3, 2]])"
      ]
     },
     "execution_count": 3,
     "metadata": {},
     "output_type": "execute_result"
    }
   ],
   "source": [
    "M = np.array([[2, 4, 0], [1, 5, 0], [1, 3, 2]])\n",
    "M"
   ]
  },
  {
   "cell_type": "code",
   "execution_count": 4,
   "metadata": {},
   "outputs": [],
   "source": [
    "S, p = naive_auction(M)"
   ]
  },
  {
   "cell_type": "code",
   "execution_count": 5,
   "metadata": {},
   "outputs": [
    {
     "data": {
      "text/plain": [
       "{(0, 0), (1, 1), (2, 2)}"
      ]
     },
     "execution_count": 5,
     "metadata": {},
     "output_type": "execute_result"
    }
   ],
   "source": [
    "S"
   ]
  },
  {
   "cell_type": "code",
   "execution_count": 6,
   "metadata": {},
   "outputs": [
    {
     "data": {
      "text/plain": [
       "array([2., 4., 3.])"
      ]
     },
     "execution_count": 6,
     "metadata": {},
     "output_type": "execute_result"
    }
   ],
   "source": [
    "p"
   ]
  },
  {
   "cell_type": "markdown",
   "metadata": {},
   "source": [
    "# Epsilon Competitive Auction Algorithm\n",
    "The naive auction algorithm will not terminate when more than one object offer the maximal value for an agent, thus the bid is zero. Choosing some $\\epsilon < \\frac{1}{n}$ where $n = |N|$ and adding it to the bid will allow the algorithm to always terminate. The resulting price vector is within $n\\epsilon$ of the optimal price vector."
   ]
  },
  {
   "cell_type": "code",
   "execution_count": 7,
   "metadata": {},
   "outputs": [],
   "source": [
    "def epsilon_competitive_auction(M):\n",
    "    # Initialize price vector p to zeros\n",
    "    p = np.zeros(M.shape[1])\n",
    "    # Initialize set of assignments S\n",
    "    S = set()\n",
    "    \n",
    "    # N = set of agents\n",
    "    N = range(M.shape[0])\n",
    "    \n",
    "    # Set epsilon\n",
    "    epsilon = (1 / len(N)) - 0.00001\n",
    "    \n",
    "    # Feasible: every agent is assigned to exactly one object\n",
    "    feasible = False\n",
    "    while not feasible:\n",
    "        # i = unassigned agent\n",
    "        assigned_agents = [a[0] for a in S]\n",
    "        unassigned_agents = [i for i in N if i not in assigned_agents]\n",
    "        i = unassigned_agents[0]\n",
    "        \n",
    "        # j = argmax v(i, k) - p_k\n",
    "        # the object that provides the most utility for agent i\n",
    "        j = np.argmax(M[i] - p)\n",
    "        \n",
    "        # k = agrmax v(i, k) - p_k where k =/= j\n",
    "        # the object that provides the second most utility for agent i\n",
    "        k = np.argsort(M[i] - p)[1]\n",
    "        \n",
    "        # bid = (v(i, j) - p_j) - (v(i, k) - p_k)\n",
    "        highest_value = M[i][j] - p[j]\n",
    "        second_highest = M[i][k] - p[k]\n",
    "        bid = highest_value - second_highest + epsilon\n",
    "        \n",
    "        # Add assignment i, j to S\n",
    "        S.add((i, j))\n",
    "        \n",
    "        # If (i', j) in S, remove it\n",
    "        if j in [a[1] for a in S]:\n",
    "            assignment_to_remove = [a for a in S if a[1] == j][0]\n",
    "            if assignment_to_remove != (i, j):\n",
    "                S.remove(assignment_to_remove)\n",
    "        \n",
    "        # Increment p_j by bid\n",
    "        p[j] += bid\n",
    "        \n",
    "        # Check if S is feasible for termination\n",
    "        if len(S) == M.shape[0]:\n",
    "            feasible = True\n",
    "    \n",
    "    return S, p"
   ]
  },
  {
   "cell_type": "code",
   "execution_count": 8,
   "metadata": {},
   "outputs": [
    {
     "data": {
      "text/plain": [
       "array([[1, 1, 0],\n",
       "       [1, 1, 0],\n",
       "       [1, 1, 0]])"
      ]
     },
     "execution_count": 8,
     "metadata": {},
     "output_type": "execute_result"
    }
   ],
   "source": [
    "M = np.array([[1, 1, 0], [1, 1, 0], [1, 1, 0]])\n",
    "M"
   ]
  },
  {
   "cell_type": "code",
   "execution_count": 9,
   "metadata": {},
   "outputs": [],
   "source": [
    "S, p = epsilon_competitive_auction(M)"
   ]
  },
  {
   "cell_type": "code",
   "execution_count": 10,
   "metadata": {},
   "outputs": [
    {
     "data": {
      "text/plain": [
       "{(0, 0), (1, 1), (2, 0)}"
      ]
     },
     "execution_count": 10,
     "metadata": {},
     "output_type": "execute_result"
    }
   ],
   "source": [
    "S"
   ]
  },
  {
   "cell_type": "code",
   "execution_count": 11,
   "metadata": {},
   "outputs": [
    {
     "data": {
      "text/plain": [
       "array([0.99997   , 0.66664667, 0.        ])"
      ]
     },
     "execution_count": 11,
     "metadata": {},
     "output_type": "execute_result"
    }
   ],
   "source": [
    "p"
   ]
  },
  {
   "cell_type": "code",
   "execution_count": null,
   "metadata": {},
   "outputs": [],
   "source": []
  }
 ],
 "metadata": {
  "kernelspec": {
   "display_name": "Python 3",
   "language": "python",
   "name": "python3"
  },
  "language_info": {
   "codemirror_mode": {
    "name": "ipython",
    "version": 3
   },
   "file_extension": ".py",
   "mimetype": "text/x-python",
   "name": "python",
   "nbconvert_exporter": "python",
   "pygments_lexer": "ipython3",
   "version": "3.7.1"
  }
 },
 "nbformat": 4,
 "nbformat_minor": 2
}
